{
  "nbformat": 4,
  "nbformat_minor": 0,
  "metadata": {
    "colab": {
      "name": "Copy of TeamProjectVisualization.ipynb",
      "provenance": [],
      "collapsed_sections": [],
      "include_colab_link": true
    },
    "kernelspec": {
      "name": "python3",
      "display_name": "Python 3"
    }
  },
  "cells": [
    {
      "cell_type": "markdown",
      "metadata": {
        "id": "view-in-github",
        "colab_type": "text"
      },
      "source": [
        "<a href=\"https://colab.research.google.com/github/benposner/SRA268-Spring2020/blob/master/Copy_of_TeamProjectVisualization.ipynb\" target=\"_parent\"><img src=\"https://colab.research.google.com/assets/colab-badge.svg\" alt=\"Open In Colab\"/></a>"
      ]
    },
    {
      "cell_type": "markdown",
      "metadata": {
        "id": "Kw5PZBtl0Ob6",
        "colab_type": "text"
      },
      "source": [
        "# COVID-19: Pennsylvania vs. the World"
      ]
    },
    {
      "cell_type": "markdown",
      "metadata": {
        "id": "iXWAmSVB0Rno",
        "colab_type": "text"
      },
      "source": [
        "Contributors:\n",
        "\n",
        "\n",
        "*   Carly Palermo\n",
        "*   Ben Posner\n",
        "*   Matthew Solomone\n",
        "\n",
        "\n"
      ]
    },
    {
      "cell_type": "markdown",
      "metadata": {
        "id": "WpaW-i5l0ZHn",
        "colab_type": "text"
      },
      "source": [
        "## Background"
      ]
    },
    {
      "cell_type": "markdown",
      "metadata": {
        "id": "E4VKsOvP0eev",
        "colab_type": "text"
      },
      "source": [
        "The idea behind this project came from the fact that the coronavirus, or COVID-19, has been spreading around the world for the past three months at a pretty significant rate. The idea behind looking at the number of cases around the world is to understand what countries have been most affected or least affected by the virus. What are the factors that have been causing these different statistics? Examples include severity of quarantine and proximity between residents within the different countries. For example, China has had the most cases internationally because they were the host nation of the outbreak. The incubation period of the virus allowed for it to spread quietly. By the time people became aware, the virus had taken a hold of a large number of people within China. This also allowed time for it to spread to other countries because people who were infected were travelling internationally. The idea of visualizing the different counties of Pennsylvania is similar to the idea about visualizing how the world has been affected. As Penn State students, we or many of our friends are from Pennsylvania and it is important to stay informed about the areas in which we live. If we are unaware that we reside in a highly infected area and we are not taking the necessary precautions, there is a higher chance that we (or if we are asymptomatic) or someone in our family could become infected with the virus. Currently, we are at the peak intensity regarding how many people have become infected. If we visualize and analyze the data regarding the nations that have lower infection rates, maybe we can imitate what they are doing so that we can slow down the infection rate within our communities."
      ]
    },
    {
      "cell_type": "markdown",
      "metadata": {
        "id": "7d8vfcGufV0_",
        "colab_type": "text"
      },
      "source": [
        "### Goal"
      ]
    },
    {
      "cell_type": "markdown",
      "metadata": {
        "id": "e1jKSGTjfY2H",
        "colab_type": "text"
      },
      "source": [
        "The goal for our project is to compare the severity of Covid-19 cases throughout each county in Pennsylvannia to every country throughout the world. We want to see if there is a specific pattern or trend and see if that applies to every region of the globe."
      ]
    },
    {
      "cell_type": "markdown",
      "metadata": {
        "id": "GOxy_TvCfi54",
        "colab_type": "text"
      },
      "source": [
        "### Assumptions"
      ]
    },
    {
      "cell_type": "markdown",
      "metadata": {
        "id": "cw1v_1MMfnAR",
        "colab_type": "text"
      },
      "source": [
        "Insert 10 assumptions for your data model:\n",
        "*   Countries will have more cases than states\n",
        "*   Countries that started quarantine later will have more cases than countries that started earlier\n",
        "*   Counties that started quarantine later will have more cases than counties that started earlier\n",
        "*   Countries that are more isolated might have fewer cases\n",
        "*   Counties that are more isolated might have fewer cases\n",
        "*   If World Health Organization suggestions are followed, May statistics may be better than April statistics\n",
        "*   Taking part in quarantine has helped nations control the spread of the virus\n",
        "*   International travel sped up transmission of virus amongst countries\n",
        "*   Countries lacking guidelines on how to deal with pandemics are more vulnerable to higher number of cases\n",
        "*   States may be ready to reopen at different times based on rate of recovery and number of remaining cases\n",
        "\n"
      ]
    },
    {
      "cell_type": "markdown",
      "metadata": {
        "id": "jKGILpu7gWr6",
        "colab_type": "text"
      },
      "source": [
        "### Data Sources"
      ]
    },
    {
      "cell_type": "markdown",
      "metadata": {
        "id": "4T9cwaJH0O46",
        "colab_type": "text"
      },
      "source": [
        "The two data sources we chose to use are derived from the website kaggle.com. We chose to analyze data relating to the current pandemic, the Coronavirus, otherwise known as COVID-19. This data is extremely relevant in our world today. People's lives and jobs are being tested during these trying times. Therefore, we wanted to pick interesting data, but also data that would give insight onto what is going on in the world today ans what the public should know about what the virus is doing both globally and nationally. One data source looks into the progression of the virus around the world. This dataset begins on January 22, 2020 and covers data up until yesterday's date of April 26, 2020. It also confirms the amount of cases, deaths, and recoveries worldwide in different countries and provinces/states. The second data source we chose to use refers to the progression of cases and deaths within the countries of all 50 states in America. This dataset also begins on January 22, 2020. The data is carried through the months of January, February, March, and ends on April 26, 2020. This dataset also gave us interesting the confirmed cases and deaths, but instead within each county. We found this data to be intriguing as we were able to test our assumptions. We joined these two datasets together in Tableau using the join option. First, we imported the worldwide data and then later added the counties in the United States data. We had to make sure they had at least one common set of data within the two in order to do so. "
      ]
    },
    {
      "cell_type": "markdown",
      "metadata": {
        "id": "kDgSdoQUgg2Z",
        "colab_type": "text"
      },
      "source": [
        "#### Sources"
      ]
    },
    {
      "cell_type": "markdown",
      "metadata": {
        "id": "dFzYIi0Agi2_",
        "colab_type": "text"
      },
      "source": [
        "Devakumar kp - COVID-19 Dataset\n",
        "*   https://www.kaggle.com/imdevskp/corona-virus-report#covid_19_clean_complete.csv\n",
        "*   https://www.kaggle.com/imdevskp/corona-virus-report#usa_county_wise.csv\n",
        "\n"
      ]
    },
    {
      "cell_type": "markdown",
      "metadata": {
        "id": "qcFak2v7g3jt",
        "colab_type": "text"
      },
      "source": [
        "## Dashboard "
      ]
    },
    {
      "cell_type": "code",
      "metadata": {
        "id": "knG79vNP0Q0u",
        "colab_type": "code",
        "outputId": "d9db11c1-f447-43b0-c38f-fa9301d1355c",
        "colab": {
          "base_uri": "https://localhost:8080/",
          "height": 1000
        }
      },
      "source": [
        "import IPython\n",
        "IPython.display.HTML(\"<div class='tableauPlaceholder' id='viz1588013206093' style='position: relative'><noscript><a href='#'><img alt=' ' src='https:&#47;&#47;public.tableau.com&#47;static&#47;images&#47;SY&#47;SYH7TFSWZ&#47;1_rss.png' style='border: none' /></a></noscript><object class='tableauViz'  style='display:none;'><param name='host_url' value='https%3A%2F%2Fpublic.tableau.com%2F' /> <param name='embed_code_version' value='3' /> <param name='path' value='shared&#47;SYH7TFSWZ' /> <param name='toolbar' value='yes' /><param name='static_image' value='https:&#47;&#47;public.tableau.com&#47;static&#47;images&#47;SY&#47;SYH7TFSWZ&#47;1.png' /> <param name='animate_transition' value='yes' /><param name='display_static_image' value='yes' /><param name='display_spinner' value='yes' /><param name='display_overlay' value='yes' /><param name='display_count' value='yes' /></object></div>                <script type='text/javascript'>                    var divElement = document.getElementById('viz1588013206093');                    var vizElement = divElement.getElementsByTagName('object')[0];                    vizElement.style.width='100%';vizElement.style.height=(divElement.offsetWidth*0.75)+'px';                    var scriptElement = document.createElement('script');                    scriptElement.src = 'https://public.tableau.com/javascripts/api/viz_v1.js';                    vizElement.parentNode.insertBefore(scriptElement, vizElement);                </script>\")"
      ],
      "execution_count": 0,
      "outputs": [
        {
          "output_type": "execute_result",
          "data": {
            "text/html": [
              "<div class='tableauPlaceholder' id='viz1588013206093' style='position: relative'><noscript><a href='#'><img alt=' ' src='https:&#47;&#47;public.tableau.com&#47;static&#47;images&#47;SY&#47;SYH7TFSWZ&#47;1_rss.png' style='border: none' /></a></noscript><object class='tableauViz'  style='display:none;'><param name='host_url' value='https%3A%2F%2Fpublic.tableau.com%2F' /> <param name='embed_code_version' value='3' /> <param name='path' value='shared&#47;SYH7TFSWZ' /> <param name='toolbar' value='yes' /><param name='static_image' value='https:&#47;&#47;public.tableau.com&#47;static&#47;images&#47;SY&#47;SYH7TFSWZ&#47;1.png' /> <param name='animate_transition' value='yes' /><param name='display_static_image' value='yes' /><param name='display_spinner' value='yes' /><param name='display_overlay' value='yes' /><param name='display_count' value='yes' /></object></div>                <script type='text/javascript'>                    var divElement = document.getElementById('viz1588013206093');                    var vizElement = divElement.getElementsByTagName('object')[0];                    vizElement.style.width='100%';vizElement.style.height=(divElement.offsetWidth*0.75)+'px';                    var scriptElement = document.createElement('script');                    scriptElement.src = 'https://public.tableau.com/javascripts/api/viz_v1.js';                    vizElement.parentNode.insertBefore(scriptElement, vizElement);                </script>"
            ],
            "text/plain": [
              "<IPython.core.display.HTML object>"
            ]
          },
          "metadata": {
            "tags": []
          },
          "execution_count": 8
        }
      ]
    },
    {
      "cell_type": "code",
      "metadata": {
        "id": "Nfx8lDTX-Pso",
        "colab_type": "code",
        "outputId": "98f544d9-b431-4058-8941-9429146d6cb4",
        "colab": {
          "base_uri": "https://localhost:8080/",
          "height": 1000
        }
      },
      "source": [
        "import IPython\n",
        "IPython.display.HTML(\"<div class='tableauPlaceholder' id='viz1588013258402' style='position: relative'><noscript><a href='#'><img alt=' ' src='https:&#47;&#47;public.tableau.com&#47;static&#47;images&#47;Fi&#47;Finalproject_15880125406470&#47;Sheet2&#47;1_rss.png' style='border: none' /></a></noscript><object class='tableauViz'  style='display:none;'><param name='host_url' value='https%3A%2F%2Fpublic.tableau.com%2F' /> <param name='embed_code_version' value='3' /> <param name='site_root' value='' /><param name='name' value='Finalproject_15880125406470&#47;Sheet2' /><param name='tabs' value='no' /><param name='toolbar' value='yes' /><param name='static_image' value='https:&#47;&#47;public.tableau.com&#47;static&#47;images&#47;Fi&#47;Finalproject_15880125406470&#47;Sheet2&#47;1.png' /> <param name='animate_transition' value='yes' /><param name='display_static_image' value='yes' /><param name='display_spinner' value='yes' /><param name='display_overlay' value='yes' /><param name='display_count' value='yes' /></object></div>                <script type='text/javascript'>                    var divElement = document.getElementById('viz1588013258402');                    var vizElement = divElement.getElementsByTagName('object')[0];                    vizElement.style.width='100%';vizElement.style.height=(divElement.offsetWidth*0.75)+'px';                    var scriptElement = document.createElement('script');                    scriptElement.src = 'https://public.tableau.com/javascripts/api/viz_v1.js';                    vizElement.parentNode.insertBefore(scriptElement, vizElement);                </script>\")"
      ],
      "execution_count": 0,
      "outputs": [
        {
          "output_type": "execute_result",
          "data": {
            "text/html": [
              "<div class='tableauPlaceholder' id='viz1588013258402' style='position: relative'><noscript><a href='#'><img alt=' ' src='https:&#47;&#47;public.tableau.com&#47;static&#47;images&#47;Fi&#47;Finalproject_15880125406470&#47;Sheet2&#47;1_rss.png' style='border: none' /></a></noscript><object class='tableauViz'  style='display:none;'><param name='host_url' value='https%3A%2F%2Fpublic.tableau.com%2F' /> <param name='embed_code_version' value='3' /> <param name='site_root' value='' /><param name='name' value='Finalproject_15880125406470&#47;Sheet2' /><param name='tabs' value='no' /><param name='toolbar' value='yes' /><param name='static_image' value='https:&#47;&#47;public.tableau.com&#47;static&#47;images&#47;Fi&#47;Finalproject_15880125406470&#47;Sheet2&#47;1.png' /> <param name='animate_transition' value='yes' /><param name='display_static_image' value='yes' /><param name='display_spinner' value='yes' /><param name='display_overlay' value='yes' /><param name='display_count' value='yes' /></object></div>                <script type='text/javascript'>                    var divElement = document.getElementById('viz1588013258402');                    var vizElement = divElement.getElementsByTagName('object')[0];                    vizElement.style.width='100%';vizElement.style.height=(divElement.offsetWidth*0.75)+'px';                    var scriptElement = document.createElement('script');                    scriptElement.src = 'https://public.tableau.com/javascripts/api/viz_v1.js';                    vizElement.parentNode.insertBefore(scriptElement, vizElement);                </script>"
            ],
            "text/plain": [
              "<IPython.core.display.HTML object>"
            ]
          },
          "metadata": {
            "tags": []
          },
          "execution_count": 7
        }
      ]
    },
    {
      "cell_type": "markdown",
      "metadata": {
        "id": "SvWfnlDjnos1",
        "colab_type": "text"
      },
      "source": [
        "## Conclusion"
      ]
    },
    {
      "cell_type": "markdown",
      "metadata": {
        "id": "rfWefr2gnxOG",
        "colab_type": "text"
      },
      "source": [
        "For our project, we chose to do it on Covid-19 confirmed cases. We did this because it is the most relevant information that is in our lives at the moment. People all over the world are tracking this number in hopes that it will soon go down and also so that people can begin getting back to normal or a new normal. It is a scary time in our lives but staying on top of this number and hopefully decreasing it sometime in the near future is important to getting the country and the world back to normal as soon as possible. So, for our project we decided to compare the number of confirmed cases in the world and also counties in the state of Pennsylvania. In comparing this we discovered that the higher the population the more confirmed cases there are. For example, in the world cases, we saw the China who has the largest population in the world has the most cases. Just like in the counties in Pennsylvania where you have the larger population counties such as Lancaster and Lehigh county there is a larger number of confirmed cases. This is because a larger population makes it easier for the virus to spread. We wanted to compare confirmed cases because we thought it would be interesting to see if the United States and Pennsylvania in particular followed the same pattern that other countries did and as far as population goes they did. However, we found it interesting that the counties that border Philadelphia such as Montgomery county and Delaware county did not have more cases then others, as Philadelphia is a very populated city both in the state of Pennsylvania and even the United States. We are unsure of why that is. Maybe it was that they were social distancing better than other counties. Although not terribly densely populated Pennsylvania is about the 12th highest densely populated state in the US. As far as confirmed cases go they have the 6th most. When looking for specific patterns or trends outside of the larger populations having more cases we were unable to find one. It is very hard to predict how the virus will spread and if there is a specific reason other than population that answers the question why some areas of the world and the state of Pennsylvania have more cases than others. By using simple bar charts, it was easy for us to compare the differences from one county to another and one country to another. By looking as these charts we can only hope to see that very soon the number of cases between each county and country are all at the same level which is zero. It is going to take some time but in the end, it will get to the point again. Hopefully in continuing to monitor cases and people noticing that social distancing is really working they will continue to practice it and these cases will disappear sooner rather than later.\n"
      ]
    }
  ]
}