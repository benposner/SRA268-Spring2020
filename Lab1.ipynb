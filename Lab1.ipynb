{
  "nbformat": 4,
  "nbformat_minor": 0,
  "metadata": {
    "colab": {
      "name": "Lab1.ipynb",
      "provenance": [],
      "authorship_tag": "ABX9TyO4cS5TE3bXLxDzxnYuoEnE",
      "include_colab_link": true
    },
    "kernelspec": {
      "name": "python3",
      "display_name": "Python 3"
    }
  },
  "cells": [
    {
      "cell_type": "markdown",
      "metadata": {
        "id": "view-in-github",
        "colab_type": "text"
      },
      "source": [
        "<a href=\"https://colab.research.google.com/github/benposner/SRA268-Spring2020/blob/master/Lab1.ipynb\" target=\"_parent\"><img src=\"https://colab.research.google.com/assets/colab-badge.svg\" alt=\"Open In Colab\"/></a>"
      ]
    },
    {
      "cell_type": "code",
      "metadata": {
        "id": "f9mof5sI9ZV5",
        "colab_type": "code",
        "colab": {}
      },
      "source": [
        ""
      ],
      "execution_count": 0,
      "outputs": []
    },
    {
      "cell_type": "markdown",
      "metadata": {
        "id": "AxJt8msG9ar9",
        "colab_type": "text"
      },
      "source": [
        "# Lab 1 - First Google Notebook"
      ]
    },
    {
      "cell_type": "markdown",
      "metadata": {
        "id": "_fWphaex9_E_",
        "colab_type": "text"
      },
      "source": [
        "# Outline\n",
        "\n",
        "The subset of data that will be looked at includes the maximum temperature of the first days of January and July from 2017, 2018, and 2019. The sketch will be a double bar graph that compares the relative months between the different years. The two ideas to recognize are the difference between temperature within different months of a specific year and the difference between temperature within different years of a specific month."
      ]
    },
    {
      "cell_type": "markdown",
      "metadata": {
        "id": "8O_rv_FD6wKr",
        "colab_type": "text"
      },
      "source": [
        "# Sketch"
      ]
    },
    {
      "cell_type": "markdown",
      "metadata": {
        "id": "7WiGrAZM_2jh",
        "colab_type": "text"
      },
      "source": [
        "![MTemp double bar graph](https://raw.githubusercontent.com/benposner/SRA268-Spring2020/master/images/Screen%20Shot%202020-01-21%20at%204.24.27%20PM.png)"
      ]
    },
    {
      "cell_type": "markdown",
      "metadata": {
        "id": "1GJjHQr866AE",
        "colab_type": "text"
      },
      "source": [
        "# Conclusion"
      ]
    },
    {
      "cell_type": "markdown",
      "metadata": {
        "id": "VkPOSGPy_9a1",
        "colab_type": "text"
      },
      "source": [
        "There are five different analyses that can be made by looking at the data above. The first analysis is the comparison of the max temperatures between January and July of 2017. Given Pennsylvania's position in the Northern Hemisphere at different times in the year, there is a reasonable difference between the temperature of the two months. The same could be said for the differences between January and July of 2018 and 2019 (being the next two analyses). The fourth analysis is the difference of the max temperatures of July between 2017, 2018, 2019. There is a consistent average temperature of 85 degrees with a +/- of 4 degrees. The last analysis is the difference of the max temperatures of January between 2017, 2018, and 2019. The average temperature is 35 degrees with a greater differential between the two outlying temperatures."
      ]
    }
  ]
}