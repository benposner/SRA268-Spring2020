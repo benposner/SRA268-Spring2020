{
  "nbformat": 4,
  "nbformat_minor": 0,
  "metadata": {
    "colab": {
      "name": "Lab 2",
      "provenance": [],
      "collapsed_sections": [],
      "authorship_tag": "ABX9TyPrpjwHiOODYDLMCy18KfCt",
      "include_colab_link": true
    },
    "kernelspec": {
      "name": "python3",
      "display_name": "Python 3"
    }
  },
  "cells": [
    {
      "cell_type": "markdown",
      "metadata": {
        "id": "view-in-github",
        "colab_type": "text"
      },
      "source": [
        "<a href=\"https://colab.research.google.com/github/benposner/SRA268-Spring2020/blob/master/Lab_2.ipynb\" target=\"_parent\"><img src=\"https://colab.research.google.com/assets/colab-badge.svg\" alt=\"Open In Colab\"/></a>"
      ]
    },
    {
      "cell_type": "markdown",
      "metadata": {
        "id": "dxJlAIMCiBam",
        "colab_type": "text"
      },
      "source": [
        "# Graph Types"
      ]
    },
    {
      "cell_type": "markdown",
      "metadata": {
        "id": "fgxVlgz2iEje",
        "colab_type": "text"
      },
      "source": [
        "Creator\n",
        "\n",
        "\n",
        "\n",
        "*   Benjamin Posner\n",
        "\n"
      ]
    },
    {
      "cell_type": "markdown",
      "metadata": {
        "id": "2pZKuqVziI3z",
        "colab_type": "text"
      },
      "source": [
        "# Deviation\n",
        "\n",
        "![link text](https://raw.githubusercontent.com/benposner/SRA268-Spring2020/master/images/Screenshot%20(20).png)\n",
        "\n",
        "**What is this telling us?**\n",
        "\n",
        "This graph represents the deviation of win pts for a team their winning season over the past 32 years. The largest deviation from the average is approximately 650 in the negative direction in the year 1985. The largest deviation in the positive direction is approximately 400 in the year 1989. Several years have a zero deviation from the average of win pts in a season. These years include: 1994, 1995, 1998, 2008, 2009, and 2014. There appears to be more negative deviation in more recent years compared to how common positive deviation was in the late 1980s and early 1990s."
      ]
    },
    {
      "cell_type": "markdown",
      "metadata": {
        "id": "lPVlgE9_kMgj",
        "colab_type": "text"
      },
      "source": [
        "# Correlation\n",
        "\n",
        "![correlation](https://raw.githubusercontent.com/benposner/SRA268-Spring2020/master/images/Screenshot%20(21).png)\n",
        "\n",
        "**What is this telling us?**\n",
        "\n",
        "This correlation graph is demonstrating the relationship between win pts and lose pts every season. There appears to be correlation between the more win pts there are in a season, there are also more lose pts. Typically, there are more win pts in a season than there are lose pts in a season. In the beginning of the graph, however, there appears to be more lose pts in a season compared to win pts in a season. This only happens for several years and shifts to the orignial statement of correlation in approximately 1991. This is a continuous trend throughout the rest of the graph. "
      ]
    },
    {
      "cell_type": "markdown",
      "metadata": {
        "id": "dQXfstwxkO1x",
        "colab_type": "text"
      },
      "source": [
        "# Ranking\n",
        "\n",
        "![ranking](https://raw.githubusercontent.com/benposner/SRA268-Spring2020/master/images/Screenshot%20(22).png)\n",
        "\n",
        "**What is this telling us?**\n",
        "\n",
        "This graph represents the ranking of most amount of win pts in a season to the least amount of win pts in a season. The year with the most amount of win pts in a season is 1989. The amount of win pts in the year 1989 was approximately 5300. The year with the second most win pts, behind 1989, was 2017 with approximately 5250. From 2017 to 1990, there appears to be an exponential shift in the ranking of how many win pts were scored during a season. After 1990, the shift in the graph appears to be linear up until 2000. The year 2000 had the second least amount of win pts scored in a season. Approximately 4550 win pts were scored in the year 200. The year with the least amount of win pts scored in a season was 1985. Approximately 4300 win pts were scored in the year 1985."
      ]
    },
    {
      "cell_type": "markdown",
      "metadata": {
        "id": "M1VQglYakTQ5",
        "colab_type": "text"
      },
      "source": [
        "# Distribution\n",
        "\n",
        "![distribution](https://raw.githubusercontent.com/benposner/SRA268-Spring2020/master/images/Screenshot%20(23).png)\n",
        "\n",
        "**What is this telling us?**\n",
        "\n",
        "This graphs represents the distribution of win pts by the winning team. The most common amount of win pts scored by a winning team is approximately 600. This amount of win pts has been scored by approximately 75 teams. The graph is skewed fairly evenly. There are outliers on both sides with only a handful of teams either scoring extremely under the average or scoring extremely above the average. The shape of the graph, because the distribution is fairly even, represents a bell shaped curve. A bell shaped curve is when the area of the shape of the graph has approximately the same slope and meets at the same point at the average of the graph."
      ]
    },
    {
      "cell_type": "markdown",
      "metadata": {
        "id": "JEr3L7SnkWMe",
        "colab_type": "text"
      },
      "source": [
        "# Change over time\n",
        "\n",
        "![change over time](https://raw.githubusercontent.com/benposner/SRA268-Spring2020/master/images/Screenshot%20(24).png)\n",
        "\n",
        "**What is this telling us?**\n",
        "\n",
        "This graph represents a linear progression over time of how many win pts the winning team had in the season when they won March Maddness. The first year, 1985, is the year with the lowest amount of win pts at approximately 4300. From 1985 to 1990, there is an increase of how many win pts were scored in the season. From 1990 to 1993, there is a decrease of how many win pts were scored in the season. Throughout the rest of the graph, there are 13 different occassions when the slope of the graph changes from negative to positive. The last change occurs in 2014 when the slope of the graph goes from negative to positive. "
      ]
    },
    {
      "cell_type": "markdown",
      "metadata": {
        "id": "Yd5F2hN-kYYW",
        "colab_type": "text"
      },
      "source": [
        "# Magnitude\n",
        "\n",
        "![magnitude](https://raw.githubusercontent.com/benposner/SRA268-Spring2020/master/images/Screenshot%20(25).png)\n",
        "\n",
        "**What is this telling us?**\n",
        "\n",
        "This graph represents the relationship between win pts and lose pts throughout the seasons from 1985 to 2006. It appears that every single year, there were more win pts than there were lose pts. It also appears that when there were less win pts in a season - compared to the win pts of other seasons - there would also be less lose pts in a season - compared to the lose pts of other seasons. However, if there are less lose pts in a season - compared to the lose pts of other seasons - that does not mean that there would be less win pts in a season - compared to other seasons. "
      ]
    },
    {
      "cell_type": "markdown",
      "metadata": {
        "id": "4DrPY9_okbNR",
        "colab_type": "text"
      },
      "source": [
        "# Part-to-whole\n",
        "\n",
        "![part-to-whole](https://raw.githubusercontent.com/benposner/SRA268-Spring2020/master/images/Screenshot%20(26).png)\n",
        "\n",
        "**What is this telling us?**\n",
        "\n",
        "This graph appears to be creating larger sections based on the range of win pts scored in a season. In the upper left corner of the graph, the two years with the highest win pts in a season are similar in size and color. The amount of win pts in a season from the year 1987 to 1998 - moving down and then moving a column to the right - appear to be similar in size but change drastically in color. This represents that there still appears to be a close proximity in the amount of win pts in a season, but the change continues to grow exponentially. The years from 1997 to 2010 are all the same shape, size, and color, representing a more linear change in how many win pts were scored in a season. 1985 is the year with the least amount of win pts in a season, and therefore it is one of the smallest and lightest - in color - boxes on the graph."
      ]
    }
  ]
}