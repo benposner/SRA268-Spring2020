{
  "nbformat": 4,
  "nbformat_minor": 0,
  "metadata": {
    "colab": {
      "name": "Team Project 1- The Good, The Bad, The Ugly",
      "provenance": [],
      "include_colab_link": true
    },
    "kernelspec": {
      "name": "python3",
      "display_name": "Python 3"
    }
  },
  "cells": [
    {
      "cell_type": "markdown",
      "metadata": {
        "id": "view-in-github",
        "colab_type": "text"
      },
      "source": [
        "<a href=\"https://colab.research.google.com/github/benposner/SRA268-Spring2020/blob/master/Team_Project_1_The_Good%2C_The_Bad%2C_The_Ugly.ipynb\" target=\"_parent\"><img src=\"https://colab.research.google.com/assets/colab-badge.svg\" alt=\"Open In Colab\"/></a>"
      ]
    },
    {
      "cell_type": "markdown",
      "metadata": {
        "id": "fL6HQBENtZAz",
        "colab_type": "text"
      },
      "source": [
        "# Creators\n",
        "\n",
        "*   Benjamin Posner\n",
        "*   Carly Palermo\n",
        "*   Matt Solomone\n",
        "\n",
        "\n",
        "\n",
        "\n",
        "\n"
      ]
    },
    {
      "cell_type": "markdown",
      "metadata": {
        "id": "PSCIGQ1lt2EK",
        "colab_type": "text"
      },
      "source": [
        "# Original Project\n",
        "\n",
        "The subset of data that will be looked at includes the maximum temperature of the first days of January and July from 2017, 2018, and 2019. The sketch will be a double bar graph that compares the relative months between the different years. The two ideas to recognize are the difference between temperature within different months of a specific year and the difference between temperature within different years of a specific month. For the good, the bad and the ugly part we decided on using a scatter plot to display information. We decided scatter plots are very hard to interpret sometimes, so we needed to make \"the good\" visualization standout and we did that. The scatter displays all the infromation that we are measuring. The good visaualization is easy to read, the bad is still readable but much harder and the ugly you cannot tell the difference between the items you are measuring.\n",
        "![MTemp double bar graph](https://raw.githubusercontent.com/benposner/SRA268-Spring2020/master/images/Screen%20Shot%202020-01-21%20at%204.24.27%20PM.png)\n",
        "\n",
        "There are five different analyses that can be made by looking at the data above. The first analysis is the comparison of the max temperatures between January and July of 2017. Given Pennsylvania's position in the Northern Hemisphere at different times in the year, there is a reasonable difference between the temperature of the two months. The same could be said for the differences between January and July of 2018 and 2019 (being the next two analyses). The fourth analysis is the difference of the max temperatures of July between 2017, 2018, 2019. There is a consistent average temperature of 85 degrees with a +/- of 4 degrees. The last analysis is the difference of the max temperatures of January between 2017, 2018, and 2019. The average temperature is 35 degrees with a greater differential between the two outlying temperatures."
      ]
    },
    {
      "cell_type": "markdown",
      "metadata": {
        "id": "VCBRvK8mu_KI",
        "colab_type": "text"
      },
      "source": [
        "# Team Project 1"
      ]
    },
    {
      "cell_type": "markdown",
      "metadata": {
        "id": "XPGtQA3xvP_P",
        "colab_type": "text"
      },
      "source": [
        "# The Good"
      ]
    },
    {
      "cell_type": "markdown",
      "metadata": {
        "id": "epR2L6OgmTOz",
        "colab_type": "text"
      },
      "source": [
        "A \"good encoding\" is a visualization that you can easily tell the differnce between the different items that you are measuring. For this encoding we used both different colors and on top of that we decided to use different shapes as well. For temperture max we used blue circles to display each max temperture for every day in Janaury. For temp min we decided on using orange squares. This way the person viewing the visualization can now see easily notice the differnce in the two items beeing compared thus making this a \"good\" visualization."
      ]
    },
    {
      "cell_type": "code",
      "metadata": {
        "id": "feWrrUTnxY0L",
        "colab_type": "code",
        "outputId": "6ce207d0-a98e-498b-9c5b-9895d5ffd62c",
        "colab": {
          "base_uri": "https://localhost:8080/",
          "height": 789
        }
      },
      "source": [
        "import IPython\n",
        "IPython.display.HTML(\"<div class='tableauPlaceholder' id='viz1581031177903' style='position: relative'><noscript><a href='#'><img alt=' ' src='https:&#47;&#47;public.tableau.com&#47;static&#47;images&#47;Go&#47;Goodbadugly&#47;Sheet4&#47;1_rss.png' style='border: none' /></a></noscript><object class='tableauViz'  style='display:none;'><param name='host_url' value='https%3A%2F%2Fpublic.tableau.com%2F' /> <param name='embed_code_version' value='3' /> <param name='site_root' value='' /><param name='name' value='Goodbadugly&#47;Sheet4' /><param name='tabs' value='no' /><param name='toolbar' value='yes' /><param name='static_image' value='https:&#47;&#47;public.tableau.com&#47;static&#47;images&#47;Go&#47;Goodbadugly&#47;Sheet4&#47;1.png' /> <param name='animate_transition' value='yes' /><param name='display_static_image' value='yes' /><param name='display_spinner' value='yes' /><param name='display_overlay' value='yes' /><param name='display_count' value='yes' /><param name='filter' value='publish=yes' /></object></div>                <script type='text/javascript'>                    var divElement = document.getElementById('viz1581031177903');                    var vizElement = divElement.getElementsByTagName('object')[0];                    vizElement.style.width='100%';vizElement.style.height=(divElement.offsetWidth*0.75)+'px';                    var scriptElement = document.createElement('script');                    scriptElement.src = 'https://public.tableau.com/javascripts/api/viz_v1.js';                    vizElement.parentNode.insertBefore(scriptElement, vizElement);                </script>\")"
      ],
      "execution_count": 0,
      "outputs": [
        {
          "output_type": "execute_result",
          "data": {
            "text/html": [
              "<div class='tableauPlaceholder' id='viz1581031177903' style='position: relative'><noscript><a href='#'><img alt=' ' src='https:&#47;&#47;public.tableau.com&#47;static&#47;images&#47;Go&#47;Goodbadugly&#47;Sheet4&#47;1_rss.png' style='border: none' /></a></noscript><object class='tableauViz'  style='display:none;'><param name='host_url' value='https%3A%2F%2Fpublic.tableau.com%2F' /> <param name='embed_code_version' value='3' /> <param name='site_root' value='' /><param name='name' value='Goodbadugly&#47;Sheet4' /><param name='tabs' value='no' /><param name='toolbar' value='yes' /><param name='static_image' value='https:&#47;&#47;public.tableau.com&#47;static&#47;images&#47;Go&#47;Goodbadugly&#47;Sheet4&#47;1.png' /> <param name='animate_transition' value='yes' /><param name='display_static_image' value='yes' /><param name='display_spinner' value='yes' /><param name='display_overlay' value='yes' /><param name='display_count' value='yes' /><param name='filter' value='publish=yes' /></object></div>                <script type='text/javascript'>                    var divElement = document.getElementById('viz1581031177903');                    var vizElement = divElement.getElementsByTagName('object')[0];                    vizElement.style.width='100%';vizElement.style.height=(divElement.offsetWidth*0.75)+'px';                    var scriptElement = document.createElement('script');                    scriptElement.src = 'https://public.tableau.com/javascripts/api/viz_v1.js';                    vizElement.parentNode.insertBefore(scriptElement, vizElement);                </script>"
            ],
            "text/plain": [
              "<IPython.core.display.HTML object>"
            ]
          },
          "metadata": {
            "tags": []
          },
          "execution_count": 2
        }
      ]
    },
    {
      "cell_type": "markdown",
      "metadata": {
        "id": "wV_sLzFjvSLr",
        "colab_type": "text"
      },
      "source": [
        "# The Bad\n",
        "\n",
        "A \"bad\" encoding is purposefully misleading in a visual sense. For this portion of the project, we chose the same shape, but different colors to map out the State College weather data in January/July of 2017-2019. Using the same shape, but different colors makes it difficult to interpret the data and distinguish between high and low temperatures. In order to make this visualization pleasureable, a way to fix this would be to change the size of the circles of either the Tmax data or the Tmin data to show some sort of variation. This visualization is poor because it is virtually confusing to follow. "
      ]
    },
    {
      "cell_type": "code",
      "metadata": {
        "id": "LT4fTRoxzblO",
        "colab_type": "code",
        "outputId": "9cceb690-2caf-4249-e2a6-358fd99e770d",
        "colab": {
          "base_uri": "https://localhost:8080/",
          "height": 789
        }
      },
      "source": [
        "import IPython\n",
        "IPython.display.HTML(\"<div class='tableauPlaceholder' id='viz1581031244370' style='position: relative'><noscript><a href='#'><img alt=' ' src='https:&#47;&#47;public.tableau.com&#47;static&#47;images&#47;Go&#47;Goodbadugly2&#47;Sheet3&#47;1_rss.png' style='border: none' /></a></noscript><object class='tableauViz'  style='display:none;'><param name='host_url' value='https%3A%2F%2Fpublic.tableau.com%2F' /> <param name='embed_code_version' value='3' /> <param name='site_root' value='' /><param name='name' value='Goodbadugly2&#47;Sheet3' /><param name='tabs' value='no' /><param name='toolbar' value='yes' /><param name='static_image' value='https:&#47;&#47;public.tableau.com&#47;static&#47;images&#47;Go&#47;Goodbadugly2&#47;Sheet3&#47;1.png' /> <param name='animate_transition' value='yes' /><param name='display_static_image' value='yes' /><param name='display_spinner' value='yes' /><param name='display_overlay' value='yes' /><param name='display_count' value='yes' /><param name='filter' value='publish=yes' /></object></div>                <script type='text/javascript'>                    var divElement = document.getElementById('viz1581031244370');                    var vizElement = divElement.getElementsByTagName('object')[0];                    vizElement.style.width='100%';vizElement.style.height=(divElement.offsetWidth*0.75)+'px';                    var scriptElement = document.createElement('script');                    scriptElement.src = 'https://public.tableau.com/javascripts/api/viz_v1.js';                    vizElement.parentNode.insertBefore(scriptElement, vizElement);                </script>\")"
      ],
      "execution_count": 0,
      "outputs": [
        {
          "output_type": "execute_result",
          "data": {
            "text/html": [
              "<div class='tableauPlaceholder' id='viz1581031244370' style='position: relative'><noscript><a href='#'><img alt=' ' src='https:&#47;&#47;public.tableau.com&#47;static&#47;images&#47;Go&#47;Goodbadugly2&#47;Sheet3&#47;1_rss.png' style='border: none' /></a></noscript><object class='tableauViz'  style='display:none;'><param name='host_url' value='https%3A%2F%2Fpublic.tableau.com%2F' /> <param name='embed_code_version' value='3' /> <param name='site_root' value='' /><param name='name' value='Goodbadugly2&#47;Sheet3' /><param name='tabs' value='no' /><param name='toolbar' value='yes' /><param name='static_image' value='https:&#47;&#47;public.tableau.com&#47;static&#47;images&#47;Go&#47;Goodbadugly2&#47;Sheet3&#47;1.png' /> <param name='animate_transition' value='yes' /><param name='display_static_image' value='yes' /><param name='display_spinner' value='yes' /><param name='display_overlay' value='yes' /><param name='display_count' value='yes' /><param name='filter' value='publish=yes' /></object></div>                <script type='text/javascript'>                    var divElement = document.getElementById('viz1581031244370');                    var vizElement = divElement.getElementsByTagName('object')[0];                    vizElement.style.width='100%';vizElement.style.height=(divElement.offsetWidth*0.75)+'px';                    var scriptElement = document.createElement('script');                    scriptElement.src = 'https://public.tableau.com/javascripts/api/viz_v1.js';                    vizElement.parentNode.insertBefore(scriptElement, vizElement);                </script>"
            ],
            "text/plain": [
              "<IPython.core.display.HTML object>"
            ]
          },
          "metadata": {
            "tags": []
          },
          "execution_count": 4
        }
      ]
    },
    {
      "cell_type": "markdown",
      "metadata": {
        "id": "0zvIRgaAvVci",
        "colab_type": "text"
      },
      "source": [
        "# The Ugly\n",
        "\n",
        "In order for a visualization to be considered \"ugly\", the visual encoding is considered to be correct, however it is overall very unpleasant to look at. For this portion of the lab, we chose to use the same shape and the same color to represent the maximum and minimum temperatures for the months January and July in the years 2017-2019 in the State College area. This encoding is visually unpleasureable because there is no variation in the data represented. Although it is technically accurate and correct retinal variables were used, the same shape and color makes the graph seem dull and mundane. "
      ]
    },
    {
      "cell_type": "code",
      "metadata": {
        "id": "e_ZrcSEL-Wrk",
        "colab_type": "code",
        "colab": {}
      },
      "source": [
        ""
      ],
      "execution_count": 0,
      "outputs": []
    },
    {
      "cell_type": "code",
      "metadata": {
        "id": "P28CFDXdzoUv",
        "colab_type": "code",
        "outputId": "b474646f-a663-45b3-d1c6-50d3c3b27123",
        "colab": {
          "base_uri": "https://localhost:8080/",
          "height": 789
        }
      },
      "source": [
        "import IPython\n",
        "IPython.display.HTML(\"<div class='tableauPlaceholder' id='viz1581031291779' style='position: relative'><noscript><a href='#'><img alt=' ' src='https:&#47;&#47;public.tableau.com&#47;static&#47;images&#47;Go&#47;Goodbadugly3&#47;Sheet2&#47;1_rss.png' style='border: none' /></a></noscript><object class='tableauViz'  style='display:none;'><param name='host_url' value='https%3A%2F%2Fpublic.tableau.com%2F' /> <param name='embed_code_version' value='3' /> <param name='site_root' value='' /><param name='name' value='Goodbadugly3&#47;Sheet2' /><param name='tabs' value='no' /><param name='toolbar' value='yes' /><param name='static_image' value='https:&#47;&#47;public.tableau.com&#47;static&#47;images&#47;Go&#47;Goodbadugly3&#47;Sheet2&#47;1.png' /> <param name='animate_transition' value='yes' /><param name='display_static_image' value='yes' /><param name='display_spinner' value='yes' /><param name='display_overlay' value='yes' /><param name='display_count' value='yes' /><param name='filter' value='publish=yes' /></object></div>                <script type='text/javascript'>                    var divElement = document.getElementById('viz1581031291779');                    var vizElement = divElement.getElementsByTagName('object')[0];                    vizElement.style.width='100%';vizElement.style.height=(divElement.offsetWidth*0.75)+'px';                    var scriptElement = document.createElement('script');                    scriptElement.src = 'https://public.tableau.com/javascripts/api/viz_v1.js';                    vizElement.parentNode.insertBefore(scriptElement, vizElement);                </script>\")"
      ],
      "execution_count": 0,
      "outputs": [
        {
          "output_type": "execute_result",
          "data": {
            "text/html": [
              "<div class='tableauPlaceholder' id='viz1581031291779' style='position: relative'><noscript><a href='#'><img alt=' ' src='https:&#47;&#47;public.tableau.com&#47;static&#47;images&#47;Go&#47;Goodbadugly3&#47;Sheet2&#47;1_rss.png' style='border: none' /></a></noscript><object class='tableauViz'  style='display:none;'><param name='host_url' value='https%3A%2F%2Fpublic.tableau.com%2F' /> <param name='embed_code_version' value='3' /> <param name='site_root' value='' /><param name='name' value='Goodbadugly3&#47;Sheet2' /><param name='tabs' value='no' /><param name='toolbar' value='yes' /><param name='static_image' value='https:&#47;&#47;public.tableau.com&#47;static&#47;images&#47;Go&#47;Goodbadugly3&#47;Sheet2&#47;1.png' /> <param name='animate_transition' value='yes' /><param name='display_static_image' value='yes' /><param name='display_spinner' value='yes' /><param name='display_overlay' value='yes' /><param name='display_count' value='yes' /><param name='filter' value='publish=yes' /></object></div>                <script type='text/javascript'>                    var divElement = document.getElementById('viz1581031291779');                    var vizElement = divElement.getElementsByTagName('object')[0];                    vizElement.style.width='100%';vizElement.style.height=(divElement.offsetWidth*0.75)+'px';                    var scriptElement = document.createElement('script');                    scriptElement.src = 'https://public.tableau.com/javascripts/api/viz_v1.js';                    vizElement.parentNode.insertBefore(scriptElement, vizElement);                </script>"
            ],
            "text/plain": [
              "<IPython.core.display.HTML object>"
            ]
          },
          "metadata": {
            "tags": []
          },
          "execution_count": 6
        }
      ]
    }
  ]
}